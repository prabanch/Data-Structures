{
 "cells": [
  {
   "cell_type": "markdown",
   "id": "8c69fa82-d1b8-4753-830f-6004ee1578a4",
   "metadata": {},
   "source": [
    "**Stack**"
   ]
  },
  {
   "cell_type": "markdown",
   "id": "51c1f8e7-f4fa-4494-861c-47a777a96061",
   "metadata": {},
   "source": [
    "The data structure stack is very similar to a physical stack that you’d most likely be familiar with. The stack data structure allows us to place any programming artifact, variable or object on it, just as our example stack allowed us to put books in it."
   ]
  },
  {
   "cell_type": "markdown",
   "id": "8311cdb0-049d-485c-8eb8-c97742948093",
   "metadata": {},
   "source": [
    "**Stack Operations**"
   ]
  },
  {
   "cell_type": "markdown",
   "id": "7efffa4f-b079-4762-9d77-b75d6818a732",
   "metadata": {},
   "source": [
    "Push , Pop, Peek"
   ]
  },
  {
   "cell_type": "code",
   "execution_count": 11,
   "id": "3ea2d182-c8ff-44a7-a2d9-5dfbcbe6a989",
   "metadata": {},
   "outputs": [
    {
     "name": "stdout",
     "output_type": "stream",
     "text": [
      "D\n"
     ]
    }
   ],
   "source": [
    "\"\"\"\n",
    "Stack Data Structure.\n",
    "\"\"\"\n",
    "class Stack():\n",
    "    def __init__(self):\n",
    "        self.items = []\n",
    "\n",
    "    def push(self, item):\n",
    "        self.items.append(item)\t\t\t\t\n",
    "\n",
    "    def pop(self):\n",
    "        return self.items.pop()\n",
    "    \n",
    "    def is_empty(self):\n",
    "        return self.items == []\n",
    "    \n",
    "    def peek(self):\n",
    "        if not self.is_empty():\n",
    "            return self.items[-1]\n",
    "        \n",
    "    def get_stack(self):\n",
    "        return self.items\n",
    "\n",
    "myStack = Stack()\n",
    "myStack.push(\"A\")\n",
    "myStack.push(\"B\")\n",
    "myStack.push(\"C\")\n",
    "myStack.push(\"D\")\n",
    "print(myStack.peek())"
   ]
  },
  {
   "cell_type": "markdown",
   "id": "d6db2f35-9468-4104-bdef-736b4ef7e05d",
   "metadata": {},
   "source": [
    "**Exercise**"
   ]
  },
  {
   "cell_type": "markdown",
   "id": "eba60244-4a40-4be4-b8dc-68d2e2165dc8",
   "metadata": {},
   "source": [
    "***Reverse String***"
   ]
  },
  {
   "cell_type": "code",
   "execution_count": null,
   "id": "a1ff45d7-6181-4ead-9c0e-944d4fcd6786",
   "metadata": {},
   "outputs": [],
   "source": [
    "\n",
    "def reverse_string(stack, input_str):\n",
    "  for i in range(len(input_str)):\n",
    "    stack.push(input_str[i])\n",
    "  rev_str = \"\"\n",
    "  while not stack.is_empty():\n",
    "    rev_str += stack.pop()\n",
    "\n",
    "  return rev_str\n",
    "\n",
    "stack = Stack()\n",
    "input_str = \"!evitacudE ot emocleW\"\n",
    "print(reverse_string(stack, input_str))"
   ]
  },
  {
   "cell_type": "markdown",
   "id": "ece71a7e-9a71-46ad-9e99-ac8954be8ba6",
   "metadata": {},
   "source": [
    "***Determine if Brackets are Balanced***"
   ]
  },
  {
   "cell_type": "code",
   "execution_count": null,
   "id": "16b536eb-64d7-461b-9c13-f7660b34c729",
   "metadata": {},
   "outputs": [],
   "source": [
    "def is_match(p1, p2):\n",
    "    if p1 == \"(\" and p2 == \")\":\n",
    "        return True\n",
    "    elif p1 == \"{\" and p2 == \"}\":\n",
    "        return True\n",
    "    elif p1 == \"[\" and p2 == \"]\":\n",
    "        return True\n",
    "    else:\n",
    "        return False\n",
    "\n",
    "\n",
    "def is_paren_balanced(paren_string):\n",
    "    s = Stack()\n",
    "    is_balanced = True\n",
    "    index = 0\n",
    "\n",
    "    while index < len(paren_string) and is_balanced:\n",
    "        paren = paren_string[index]\n",
    "        if paren in \"([{\":\n",
    "            s.push(paren)\n",
    "        else:\n",
    "            if s.is_empty():\n",
    "                is_balanced = False\n",
    "                break\n",
    "            else:\n",
    "                top = s.pop()\n",
    "                if not is_match(top, paren):\n",
    "                    is_balanced = False\n",
    "                    break\n",
    "        index += 1\n",
    "\n",
    "    if s.is_empty() and is_balanced:\n",
    "        return True\n",
    "    else:\n",
    "        return False\n",
    "\n",
    "print(\"String : (((({})))) Balanced or not?\")\n",
    "print(is_paren_balanced(\"(((({}))))\"))\n",
    "\n",
    "print(\"String : [][]]] Balanced or not?\")\n",
    "print(is_paren_balanced(\"[][]]]\"))\n",
    "\n",
    "print(\"String : [][] Balanced or not?\")\n",
    "print(is_paren_balanced(\"[][]\"))\n"
   ]
  }
 ],
 "metadata": {
  "kernelspec": {
   "display_name": "Python 3 (ipykernel)",
   "language": "python",
   "name": "python3"
  },
  "language_info": {
   "codemirror_mode": {
    "name": "ipython",
    "version": 3
   },
   "file_extension": ".py",
   "mimetype": "text/x-python",
   "name": "python",
   "nbconvert_exporter": "python",
   "pygments_lexer": "ipython3",
   "version": "3.9.13"
  }
 },
 "nbformat": 4,
 "nbformat_minor": 5
}
